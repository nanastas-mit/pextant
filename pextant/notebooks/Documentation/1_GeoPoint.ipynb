{
 "cells": [
  {
   "cell_type": "code",
   "execution_count": 1,
   "metadata": {},
   "outputs": [],
   "source": [
    "import deps\n",
    "from pextant.lib.geoshapely import GeoPoint, \\\n",
    "LAT_LONG, LONG_LAT, UTM, Cartesian, Cartesian2"
   ]
  },
  {
   "cell_type": "markdown",
   "metadata": {},
   "source": [
    "## 1. Abstraction for Earth surface geometry\n",
    "SEXTANT uses objects - whose names are prefixed by *Geo* - to represent geometrical objects that are defined on a map. The objects are built on top of the python library shapely, that is standard for generic geometry not attached to a map representation. Here we address the gap by providing a very basic abstraction that makes it easy to convert between different Earth based reference systems.\n",
    "\n",
    "### 1.1 GeoPoint\n",
    "GeoPoints take a coordinate system, and then two coordinates(currently not extended to 3D). The coordinate systems predefined are as follows:\n",
    "\n",
    "- Latitude, longitude (LAT_LONG), or inversly longitude, latitude (LONG_LAT)\n",
    "- UTM(Universal Transverse Mercator). These are locally projected cartesian grids that depend on which longitude you are at(defining a zone), and therefore take as an argument the zone number. Of the UTM grid. Optionally, it can also take a previously defined point as an argument to automatically determine the UTM zone.\n",
    "- Cartesian(point, resolution). This creates a 2D cartesian coordinate system centered at a point, with grid spacing set by the resolution. Coordinates here represent cells, and are therfore integer\n",
    "- Cartesian2(point, resolution). Same as Cartesian, but continous. Should find a better name"
   ]
  },
  {
   "cell_type": "markdown",
   "metadata": {},
   "source": [
    "#### Latitude, longitude"
   ]
  },
  {
   "cell_type": "code",
   "execution_count": 2,
   "metadata": {},
   "outputs": [],
   "source": [
    "geopoint = GeoPoint(LAT_LONG, 47.9941214, 7.8509671)"
   ]
  },
  {
   "cell_type": "markdown",
   "metadata": {},
   "source": [
    "These can next be converted to other coordinate systems; the output are the coordinates(and not a new object) - this might be a good upgrade to add.\n",
    "One caviat, if we convert to UTM of any other zone, it will still force the conversion to UTM of the zone that the point is in."
   ]
  },
  {
   "cell_type": "code",
   "execution_count": 3,
   "metadata": {},
   "outputs": [
    {
     "data": {
      "text/plain": [
       "array([ 414278.16731025, 5316285.59492359])"
      ]
     },
     "execution_count": 3,
     "metadata": {},
     "output_type": "execute_result"
    }
   ],
   "source": [
    "geopoint.to(UTM(5)) #Any number instead of 5 will give same result"
   ]
  },
  {
   "cell_type": "markdown",
   "metadata": {},
   "source": [
    "#### Cartesian"
   ]
  },
  {
   "cell_type": "code",
   "execution_count": 4,
   "metadata": {},
   "outputs": [],
   "source": [
    "ref_frame = Cartesian(geopoint, resolution=1)"
   ]
  },
  {
   "cell_type": "code",
   "execution_count": 5,
   "metadata": {},
   "outputs": [
    {
     "data": {
      "text/plain": [
       "array([0, 0])"
      ]
     },
     "execution_count": 5,
     "metadata": {},
     "output_type": "execute_result"
    }
   ],
   "source": [
    "geopoint.to(ref_frame)"
   ]
  },
  {
   "cell_type": "code",
   "execution_count": 6,
   "metadata": {},
   "outputs": [],
   "source": [
    "point_in_ref = GeoPoint(ref_frame, 20, 10)\n",
    "point_lat_long = point_in_ref.to(LAT_LONG)"
   ]
  },
  {
   "cell_type": "markdown",
   "metadata": {},
   "source": [
    "And converting back"
   ]
  },
  {
   "cell_type": "code",
   "execution_count": 7,
   "metadata": {},
   "outputs": [
    {
     "data": {
      "text/plain": [
       "array([20, 10])"
      ]
     },
     "execution_count": 7,
     "metadata": {},
     "output_type": "execute_result"
    }
   ],
   "source": [
    "GeoPoint(LAT_LONG, *point_lat_long).to(ref_frame) # notice that the * symbol was used, this automatically splits the array into two arguments"
   ]
  },
  {
   "cell_type": "markdown",
   "metadata": {},
   "source": [
    "### 1.2 GeoPolygon\n",
    "A collection(list) of several GeoPoints are defined as a GeoPolygon"
   ]
  },
  {
   "cell_type": "code",
   "execution_count": 8,
   "metadata": {},
   "outputs": [],
   "source": [
    "from pextant.lib.geoshapely import GeoPolygon"
   ]
  },
  {
   "cell_type": "code",
   "execution_count": 9,
   "metadata": {},
   "outputs": [],
   "source": [
    "geopolygon = GeoPolygon([geopoint, point_in_ref])"
   ]
  },
  {
   "cell_type": "markdown",
   "metadata": {},
   "source": [
    "Since the library is built on top of shapely, we can also visualize the shapes natively in the notebook"
   ]
  },
  {
   "cell_type": "code",
   "execution_count": 10,
   "metadata": {},
   "outputs": [
    {
     "data": {
      "image/svg+xml": [
       "<svg xmlns=\"http://www.w3.org/2000/svg\" xmlns:xlink=\"http://www.w3.org/1999/xlink\" width=\"100.0\" height=\"100.0\" viewBox=\"414277.36731 5316274.79492 21.6 11.5999999996\" preserveAspectRatio=\"xMinYMin meet\"><g transform=\"matrix(1,0,0,-1,0,10632561.1898)\"><polyline fill=\"none\" stroke=\"#66cc99\" stroke-width=\"0.432\" points=\"414278.16731,5316285.59492 414298.16731,5316275.59492\" opacity=\"0.8\" /></g></svg>"
      ],
      "text/plain": [
       "<pextant.lib.geoshapely.GeoPolygon at 0x14ff8208>"
      ]
     },
     "execution_count": 10,
     "metadata": {},
     "output_type": "execute_result"
    }
   ],
   "source": [
    "geopolygon"
   ]
  },
  {
   "cell_type": "markdown",
   "metadata": {},
   "source": [
    "We can also define a polygon through arrays of coordinates in a coordinate system, in a similar way we defined the GeoPoint"
   ]
  },
  {
   "cell_type": "code",
   "execution_count": 11,
   "metadata": {},
   "outputs": [
    {
     "data": {
      "image/svg+xml": [
       "<svg xmlns=\"http://www.w3.org/2000/svg\" xmlns:xlink=\"http://www.w3.org/1999/xlink\" width=\"100.0\" height=\"100.0\" viewBox=\"414277.16731 5316254.59492 22.0000000001 27.0000000009\" preserveAspectRatio=\"xMinYMin meet\"><g transform=\"matrix(1,0,0,-1,0,10632536.1898)\"><polyline fill=\"none\" stroke=\"#66cc99\" stroke-width=\"0.540000000019\" points=\"414278.16731,5316255.59492 414278.16731,5316275.59492 414288.16731,5316280.59492 414298.16731,5316275.59492 414298.16731,5316255.59492 414278.16731,5316255.59492\" opacity=\"0.8\" /></g></svg>"
      ],
      "text/plain": [
       "<pextant.lib.geoshapely.GeoPolygon at 0x14ff8888>"
      ]
     },
     "execution_count": 11,
     "metadata": {},
     "output_type": "execute_result"
    }
   ],
   "source": [
    "house = GeoPolygon(ref_frame, [0,0,10,20,20,0], [30,10,5,10,30,30])\n",
    "house"
   ]
  },
  {
   "cell_type": "markdown",
   "metadata": {},
   "source": [
    "And easily convert to other systems in the same way that was done with GeoPoint"
   ]
  },
  {
   "cell_type": "code",
   "execution_count": 12,
   "metadata": {},
   "outputs": [
    {
     "data": {
      "text/plain": [
       "array([[47.99385154, 47.99403145, 47.99407776, 47.99403413, 47.99385422,\n",
       "        47.99385154],\n",
       "       [ 7.85097309,  7.8509691 ,  7.85110211,  7.85123713,  7.85124112,\n",
       "         7.85097309]])"
      ]
     },
     "execution_count": 12,
     "metadata": {},
     "output_type": "execute_result"
    }
   ],
   "source": [
    "house.to(LAT_LONG)"
   ]
  },
  {
   "cell_type": "markdown",
   "metadata": {},
   "source": [
    "One can access elements of the list through regular indexing:"
   ]
  },
  {
   "cell_type": "code",
   "execution_count": 13,
   "metadata": {},
   "outputs": [
    {
     "name": "stdout",
     "output_type": "stream",
     "text": [
      "[47.99403413  7.85123713]\n"
     ]
    },
    {
     "data": {
      "text/plain": [
       "array([ True,  True])"
      ]
     },
     "execution_count": 13,
     "metadata": {},
     "output_type": "execute_result"
    }
   ],
   "source": [
    "print(house[3].to(LAT_LONG))\n",
    "house[3].to(LAT_LONG) == house.to(LAT_LONG).T[3]"
   ]
  },
  {
   "cell_type": "markdown",
   "metadata": {},
   "source": [
    "### Helper functions\n",
    "Geo shapely is built on top of shapely, where the underlying representation uses the UTM coordinates. This could result in small numerical inaccuracies due to the fact that UTM coordinates can be numbers on the order of a hundred thousands or a million. The nice thing is that we can use it in the same way you would use a shapely object:"
   ]
  },
  {
   "cell_type": "code",
   "execution_count": 14,
   "metadata": {},
   "outputs": [
    {
     "data": {
      "image/svg+xml": [
       "<svg xmlns=\"http://www.w3.org/2000/svg\" xmlns:xlink=\"http://www.w3.org/1999/xlink\" width=\"100.0\" height=\"100.0\" viewBox=\"414277.36731 5316274.79492 21.5999999979 6.60000000056\" preserveAspectRatio=\"xMinYMin meet\"><g transform=\"matrix(1,0,0,-1,0,10632556.1898)\"><polyline fill=\"none\" stroke=\"#66cc99\" stroke-width=\"0.431999999959\" points=\"414278.16731,5316275.59492 414288.16731,5316280.59492 414298.16731,5316275.59492\" opacity=\"0.8\" /></g></svg>"
      ],
      "text/plain": [
       "<shapely.geometry.linestring.LineString at 0x14fe2788>"
      ]
     },
     "execution_count": 14,
     "metadata": {},
     "output_type": "execute_result"
    }
   ],
   "source": [
    "geopolygon.envelope.intersection(house)"
   ]
  },
  {
   "cell_type": "code",
   "execution_count": 15,
   "metadata": {},
   "outputs": [
    {
     "data": {
      "image/svg+xml": [
       "<svg xmlns=\"http://www.w3.org/2000/svg\" xmlns:xlink=\"http://www.w3.org/1999/xlink\" width=\"100.0\" height=\"100.0\" viewBox=\"414277.36731 5316274.79492 21.6 6.60000000056\" preserveAspectRatio=\"xMinYMin meet\"><g transform=\"matrix(1,0,0,-1,0,10632556.1898)\"><path fill-rule=\"evenodd\" fill=\"#66cc99\" stroke=\"#555555\" stroke-width=\"0.432\" opacity=\"0.6\" d=\"M 414298.16731,5316275.59492 L 414278.16731,5316275.59492 L 414278.16731,5316280.59492 L 414298.16731,5316280.59492 L 414298.16731,5316275.59492 z\" /></g></svg>"
      ],
      "text/plain": [
       "<shapely.geometry.polygon.Polygon at 0x14ff8a08>"
      ]
     },
     "execution_count": 15,
     "metadata": {},
     "output_type": "execute_result"
    }
   ],
   "source": [
    "geopolygon.envelope.intersection(house.envelope)"
   ]
  },
  {
   "cell_type": "markdown",
   "metadata": {},
   "source": [
    "### 1.3 GeoEnvelope\n",
    "Although shapely offers the envelope function to get the envelope of a polygon, an very light object was developped in addition for specific use cases where it was useful. This representation makes it easy to add a buffer to the envelope by calling addMargin(scale, length), and has a convenient function to get the upper left and lower right coordinate of the envelope. The envelope is defined through the upper left and lower right corner, but all GeoPolygon objects have the built in function geoEnvelope() to get the envelope."
   ]
  },
  {
   "cell_type": "code",
   "execution_count": 16,
   "metadata": {},
   "outputs": [],
   "source": [
    "from pextant.lib.geoshapely import GeoEnvelope"
   ]
  },
  {
   "cell_type": "code",
   "execution_count": 17,
   "metadata": {},
   "outputs": [],
   "source": [
    "geoenvelope = GeoEnvelope(house[0], house[3]).addMargin(5, 5)"
   ]
  },
  {
   "cell_type": "code",
   "execution_count": 18,
   "metadata": {},
   "outputs": [
    {
     "data": {
      "image/svg+xml": [
       "<svg xmlns=\"http://www.w3.org/2000/svg\" xmlns:xlink=\"http://www.w3.org/1999/xlink\" width=\"100.0\" height=\"100.0\" viewBox=\"414250.36731 5316247.79492 75.6 35.5999999996\" preserveAspectRatio=\"xMinYMin meet\"><g transform=\"matrix(1,0,0,-1,0,10632531.1898)\"><path fill-rule=\"evenodd\" fill=\"#66cc99\" stroke=\"#555555\" stroke-width=\"1.512\" opacity=\"0.6\" d=\"M 414253.16731,5316250.59492 L 414323.16731,5316250.59492 L 414323.16731,5316280.59492 L 414253.16731,5316280.59492 L 414253.16731,5316250.59492 z\" /></g></svg>"
      ],
      "text/plain": [
       "<shapely.geometry.polygon.Polygon at 0x14ff8748>"
      ]
     },
     "execution_count": 18,
     "metadata": {},
     "output_type": "execute_result"
    }
   ],
   "source": [
    "geoenvelope.envelope"
   ]
  },
  {
   "cell_type": "code",
   "execution_count": 19,
   "metadata": {},
   "outputs": [],
   "source": [
    "house_upper_left, house_lower_right = house.geoEnvelope().getBounds()"
   ]
  },
  {
   "cell_type": "code",
   "execution_count": 20,
   "metadata": {},
   "outputs": [
    {
     "data": {
      "text/plain": [
       "array([0, 5])"
      ]
     },
     "execution_count": 20,
     "metadata": {},
     "output_type": "execute_result"
    }
   ],
   "source": [
    "house_upper_left.to(ref_frame)"
   ]
  },
  {
   "cell_type": "code",
   "execution_count": 21,
   "metadata": {},
   "outputs": [
    {
     "data": {
      "text/plain": [
       "array([20, 30])"
      ]
     },
     "execution_count": 21,
     "metadata": {},
     "output_type": "execute_result"
    }
   ],
   "source": [
    "house_lower_right.to(ref_frame)"
   ]
  },
  {
   "cell_type": "code",
   "execution_count": null,
   "metadata": {},
   "outputs": [],
   "source": []
  }
 ],
 "metadata": {
  "kernelspec": {
   "display_name": "Python 2",
   "language": "python",
   "name": "python2"
  },
  "language_info": {
   "codemirror_mode": {
    "name": "ipython",
    "version": 2
   },
   "file_extension": ".py",
   "mimetype": "text/x-python",
   "name": "python",
   "nbconvert_exporter": "python",
   "pygments_lexer": "ipython2",
   "version": "2.7.17"
  }
 },
 "nbformat": 4,
 "nbformat_minor": 2
}
